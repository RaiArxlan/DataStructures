{
 "cells": [
  {
   "cell_type": "markdown",
   "metadata": {},
   "source": [
    "## Reverse String\n",
    "Write a function to reverse a given string. Analyze the time and space complexity of your solution."
   ]
  },
  {
   "cell_type": "code",
   "execution_count": 2,
   "metadata": {
    "dotnet_interactive": {
     "language": "csharp"
    },
    "polyglot_notebook": {
     "kernelName": "csharp"
    },
    "vscode": {
     "languageId": "polyglot-notebook"
    }
   },
   "outputs": [
    {
     "name": "stdout",
     "output_type": "stream",
     "text": [
      "olleh\r\n"
     ]
    }
   ],
   "source": [
    "string ReverseString(char[] input)\n",
    "{\n",
    "        for (int i = 0; i < input.Length / 2; i++)\n",
    "        {\n",
    "            char temp = input[i];\n",
    "            input[i] = input[input.Length - i - 1];\n",
    "            input[input.Length - i - 1] = temp;\n",
    "        }\n",
    "\n",
    "        return new string (input);\n",
    "}\n",
    "\n",
    "// Time complexity: O(n)\n",
    "// Space complexity: O(1)\n",
    "\n",
    "// Testing the function\n",
    "Console.WriteLine(ReverseString(\"hello\".ToArray())); // olleh\n",
    "Console.WriteLine(ReverseString(\"world\".ToArray())); // dlrow"
   ]
  },
  {
   "cell_type": "markdown",
   "metadata": {},
   "source": [
    "## Palindrome Check\n",
    "Write a function to check if a given string is a palindrome (reads the same backward as forward). Analyze the time and space complexity."
   ]
  },
  {
   "cell_type": "code",
   "execution_count": 2,
   "metadata": {
    "vscode": {
     "languageId": "polyglot-notebook"
    }
   },
   "outputs": [
    {
     "name": "stdout",
     "output_type": "stream",
     "text": [
      "False\n",
      "True\n"
     ]
    }
   ],
   "source": [
    " bool PalindromeCheck(string input)\n",
    " {\n",
    "     for (int i = 0; i < input.Length / 2; i++)\n",
    "     {\n",
    "         if (input[i] != input[input.Length - i - 1])\n",
    "         {\n",
    "             return false;\n",
    "         }\n",
    "     }\n",
    "\n",
    "     return true;\n",
    " }\n",
    "\n",
    " // Time complexity: O(n)\n",
    " // Space complexity: O(1)\n",
    "\n",
    " // Testing the PalindromeCheck function\n",
    "Console.WriteLine(PalindromeCheck(\"hello\")); // False\n",
    "Console.WriteLine(PalindromeCheck(\"racecar\")); // True"
   ]
  },
  {
   "cell_type": "markdown",
   "metadata": {},
   "source": [
    "## Find Duplicates\n",
    "Given an array of integers, write a function to find all the duplicate elements. Analyze the time and space complexity of your solution."
   ]
  },
  {
   "cell_type": "code",
   "execution_count": 3,
   "metadata": {
    "vscode": {
     "languageId": "polyglot-notebook"
    }
   },
   "outputs": [
    {
     "name": "stdout",
     "output_type": "stream",
     "text": [
      "2, 3\n",
      "\n"
     ]
    }
   ],
   "source": [
    "int[] FindDuplicates(int[] input)\n",
    "{\n",
    "    var duplicates = new HashSet<int>();\n",
    "    var seen = new HashSet<int>();\n",
    "\n",
    "    for (int i = 0; i < input.Length; i++)\n",
    "    {\n",
    "        if (seen.Contains(input[i]))\n",
    "        {\n",
    "            duplicates.Add(input[i]);\n",
    "        }\n",
    "        else\n",
    "        {\n",
    "            seen.Add(input[i]);\n",
    "        }\n",
    "    }\n",
    "\n",
    "    return duplicates.ToArray();\n",
    "}\n",
    "\n",
    "\n",
    "// Time complexity: O(n)\n",
    "// Space complexity: O(n)\n",
    "\n",
    "// Testing the FindDuplicates function\n",
    "Console.WriteLine(string.Join(\", \", FindDuplicates(new int[] { 1, 2, 3, 4, 5, 2, 3, 6 }))); // 2, 3\n",
    "Console.WriteLine(string.Join(\", \", FindDuplicates(new int[] { 1, 2, 3, 4, 5 }))); // (empty)"
   ]
  },
  {
   "cell_type": "markdown",
   "metadata": {},
   "source": [
    "## Two Sum\n",
    "Given an array of integers nums and an integer target, return the indices of the two numbers such that they add up to target. Analyze the time and space complexity of your solution."
   ]
  },
  {
   "cell_type": "code",
   "execution_count": 4,
   "metadata": {
    "vscode": {
     "languageId": "polyglot-notebook"
    }
   },
   "outputs": [
    {
     "name": "stdout",
     "output_type": "stream",
     "text": [
      "0, 1\n",
      "1, 2\n",
      "0, 1\n",
      "1, 2\n"
     ]
    }
   ],
   "source": [
    "int[] TwoSumV1(int[] nums, int target)\n",
    "{\n",
    "    var map = new Dictionary<int, int>();\n",
    "\n",
    "    for (int i = 0; i < nums.Length; i++)\n",
    "    {\n",
    "        int complement = target - nums[i];\n",
    "        if (map.ContainsKey(complement))\n",
    "        {\n",
    "            return new int[] { map[complement], i };\n",
    "        }\n",
    "        map[nums[i]] = i;\n",
    "    }\n",
    "\n",
    "    return new int[] { -1, -1 };\n",
    "}\n",
    "\n",
    "// Time complexity: O(n)\n",
    "// Space complexity: O(n)\n",
    "\n",
    "// Testing the TwoSumV1 function\n",
    "Console.WriteLine(string.Join(\", \", TwoSumV1(new int[] { 2, 7, 11, 15 }, 9))); // 0, 1\n",
    "Console.WriteLine(string.Join(\", \", TwoSumV1(new int[] { 3, 2, 4 }, 6))); // 1, 2\n",
    "\n",
    "\n",
    "int[] TwoSumV2(int[] nums, int target)\n",
    "{\n",
    "    for (int i = 0; i < nums.Length; i++)\n",
    "    {\n",
    "        for (int j = i + 1; j < nums.Length; j++)\n",
    "        {\n",
    "            if (nums[i] + nums[j] == target)\n",
    "            {\n",
    "                return new int[] { i, j };\n",
    "            }\n",
    "        }\n",
    "    }\n",
    "\n",
    "    return new int[] { -1, -1 };\n",
    "}\n",
    "\n",
    "\n",
    "// Time complexity: O(n^2)\n",
    "// Space complexity: O(1)\n",
    "\n",
    "// Testing the TwoSumV2 function\n",
    "Console.WriteLine(string.Join(\", \", TwoSumV2(new int[] { 2, 7, 11, 15 }, 9))); // 0, 1\n",
    "Console.WriteLine(string.Join(\", \", TwoSumV2(new int[] { 3, 2, 4 }, 6))); // 1, 2"
   ]
  },
  {
   "cell_type": "markdown",
   "metadata": {},
   "source": [
    "## Merge Sorted Arrays\n",
    "Given two sorted arrays nums1 and nums2 of size m and n respectively, merge nums2 into nums1 as one sorted array. Analyze the time and space complexity of your solution."
   ]
  },
  {
   "cell_type": "code",
   "execution_count": 10,
   "metadata": {
    "vscode": {
     "languageId": "polyglot-notebook"
    }
   },
   "outputs": [
    {
     "name": "stdout",
     "output_type": "stream",
     "text": [
      "1\n",
      "1, 2\n",
      "1, 2, 3\n",
      "1, 2, 3, 4\n",
      "1, 2, 3, 4, 5\n",
      "i: 3\n",
      "j: 2\n",
      "i: 3\n",
      "j: 2\n",
      "1, 2, 3, 4, 5, 6\n",
      "i: 3\n",
      "j: 3\n",
      "1, 2, 3, 4, 5, 6\n"
     ]
    }
   ],
   "source": [
    "int[] MergeSortArrays(int[] array1, int[] array2)\n",
    "{\n",
    "    int i = 0, j = 0;\n",
    "    List<int> result = new List<int>();\n",
    "\n",
    "    while (i < array1.Length && j < array2.Length)\n",
    "    {\n",
    "        if (array1[i] < array2[j])\n",
    "        {\n",
    "            result.Add(array1[i]);\n",
    "            i++;\n",
    "        }\n",
    "        else\n",
    "        {\n",
    "            result.Add(array2[j]);\n",
    "            j++;\n",
    "        }\n",
    "\n",
    "        Console.WriteLine(string.Join(\", \", result));\n",
    "    }\n",
    "\n",
    "    Console.WriteLine(\"i: \" + i);\n",
    "    Console.WriteLine(\"j: \" + j);\n",
    "\n",
    "    while (i < array1.Length)\n",
    "    {\n",
    "        result.Add(array1[i]);\n",
    "        i++;\n",
    "\n",
    "        Console.WriteLine(string.Join(\", \", result));\n",
    "    }\n",
    "\n",
    "    Console.WriteLine(\"i: \" + i);\n",
    "    Console.WriteLine(\"j: \" + j);\n",
    "\n",
    "    while (j < array2.Length)\n",
    "    {\n",
    "        result.Add(array2[j]);\n",
    "        j++;\n",
    "        \n",
    "        Console.WriteLine(string.Join(\", \", result));\n",
    "    }        \n",
    "\n",
    "    Console.WriteLine(\"i: \" + i);\n",
    "    Console.WriteLine(\"j: \" + j);\n",
    "\n",
    "    return result.ToArray();\n",
    "}\n",
    "\n",
    "// Time complexity: O(n + m)\n",
    "// Space complexity: O(n + m)\n",
    "\n",
    "\n",
    "// Testing the MergeSortArrays function\n",
    "Console.WriteLine(string.Join(\", \", MergeSortArrays(new int[] { 1, 3, 5 }, new int[] { 2, 4, 6 }))); // 1, 2, 3, 4, 5, 6\n",
    "//Console.WriteLine(string.Join(\", \", MergeSortArrays(new int[] { 1, 2, 3 }, new int[] { 4, 5, 6 }))); // 1, 2, 3, 4, 5, 6"
   ]
  },
  {
   "cell_type": "markdown",
   "metadata": {},
   "source": [
    "## Rotate Array\n",
    "Given an array, rotate the array to the right by k steps, where k is non-negative. Analyze the time and space complexity of your solution."
   ]
  },
  {
   "cell_type": "code",
   "execution_count": 11,
   "metadata": {
    "vscode": {
     "languageId": "polyglot-notebook"
    }
   },
   "outputs": [
    {
     "name": "stdout",
     "output_type": "stream",
     "text": [
      "5, 6, 7, 1, 2, 3, 4\r\n"
     ]
    }
   ],
   "source": [
    "int[] RotateArray(int[] nums, int k)\n",
    "{\n",
    "    k = k % nums.Length;\n",
    "    Reverse(nums, 0, nums.Length - 1);\n",
    "    Reverse(nums, 0, k - 1);\n",
    "    Reverse(nums, k, nums.Length - 1);\n",
    "\n",
    "    return nums;\n",
    "}\n",
    "\n",
    "void Reverse(int[] nums, int start, int end)\n",
    "{\n",
    "    while (start < end)\n",
    "    {\n",
    "        int temp = nums[start];\n",
    "        nums[start] = nums[end];\n",
    "        nums[end] = temp;\n",
    "        start++;\n",
    "        end--;\n",
    "    }\n",
    "}\n",
    "\n",
    "\n",
    "// Time complexity: O(n)\n",
    "// Space complexity: O(1)\n",
    "\n",
    "\n",
    "// Testing the RotateArray function\n",
    "Console.WriteLine(string.Join(\", \", RotateArray(new int[] { 1, 2, 3, 4, 5, 6, 7 }, 3))); // 5, 6, 7, 1, 2, 3, 4"
   ]
  }
 ],
 "metadata": {
  "kernelspec": {
   "display_name": ".NET (C#)",
   "language": "C#",
   "name": ".net-csharp"
  },
  "language_info": {
   "name": "python"
  },
  "polyglot_notebook": {
   "kernelInfo": {
    "defaultKernelName": "csharp",
    "items": [
     {
      "aliases": [],
      "name": "csharp"
     }
    ]
   }
  }
 },
 "nbformat": 4,
 "nbformat_minor": 2
}
